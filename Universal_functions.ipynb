{
  "nbformat": 4,
  "nbformat_minor": 0,
  "metadata": {
    "colab": {
      "provenance": [],
      "gpuType": "T4",
      "authorship_tag": "ABX9TyNz9wej71RnFmrETV4VXJaM",
      "include_colab_link": true
    },
    "kernelspec": {
      "name": "python3",
      "display_name": "Python 3"
    },
    "language_info": {
      "name": "python"
    },
    "accelerator": "GPU"
  },
  "cells": [
    {
      "cell_type": "markdown",
      "metadata": {
        "id": "view-in-github",
        "colab_type": "text"
      },
      "source": [
        "<a href=\"https://colab.research.google.com/github/Temur0122/NumPy_kutubxonasi_bilan_ishlash/blob/main/Universal_functions.ipynb\" target=\"_parent\"><img src=\"https://colab.research.google.com/assets/colab-badge.svg\" alt=\"Open In Colab\"/></a>"
      ]
    },
    {
      "cell_type": "markdown",
      "source": [
        "# Unary funksiyalar(bitta argument qabul qiladigan funksiyalar)\n",
        "\n",
        "\n",
        "```\n",
        "# sqrt, square, exp, log, modf, sign, isnan\n",
        "\n",
        "```\n",
        "funksiyalarni ko`rib chiqamiz\n"
      ],
      "metadata": {
        "id": "AE30LO2is0tg"
      }
    },
    {
      "cell_type": "code",
      "source": [
        "import numpy as np\n",
        "arr = np.arange(10)\n",
        "arr"
      ],
      "metadata": {
        "colab": {
          "base_uri": "https://localhost:8080/"
        },
        "id": "SYaJI88Wto8V",
        "outputId": "7d66447f-b5d6-4316-a91c-103b9d7aab3d"
      },
      "execution_count": 2,
      "outputs": [
        {
          "output_type": "execute_result",
          "data": {
            "text/plain": [
              "array([0, 1, 2, 3, 4, 5, 6, 7, 8, 9])"
            ]
          },
          "metadata": {},
          "execution_count": 2
        }
      ]
    },
    {
      "cell_type": "markdown",
      "source": [
        "# `sqrt` - massivning barcha elementlarini ildizini hisoblaydi"
      ],
      "metadata": {
        "id": "2ELh8-yAuxLq"
      }
    },
    {
      "cell_type": "code",
      "source": [
        "np.sqrt(arr)"
      ],
      "metadata": {
        "colab": {
          "base_uri": "https://localhost:8080/"
        },
        "id": "h-jPa6UTuExG",
        "outputId": "1b53fce3-9e91-4d55-920b-6c066fee35a3"
      },
      "execution_count": 4,
      "outputs": [
        {
          "output_type": "execute_result",
          "data": {
            "text/plain": [
              "array([0.        , 1.        , 1.41421356, 1.73205081, 2.        ,\n",
              "       2.23606798, 2.44948974, 2.64575131, 2.82842712, 3.        ])"
            ]
          },
          "metadata": {},
          "execution_count": 4
        }
      ]
    },
    {
      "cell_type": "markdown",
      "source": [
        "`square`-Massivning barcha elementlarini kvadratini hisoblaydi"
      ],
      "metadata": {
        "id": "SWjmKmXtvhsq"
      }
    },
    {
      "cell_type": "code",
      "source": [
        "np.square(arr)"
      ],
      "metadata": {
        "colab": {
          "base_uri": "https://localhost:8080/"
        },
        "id": "tcczD7Z4vfc-",
        "outputId": "09b76031-e3bb-40cb-a472-d5f9bf0b8bf2"
      },
      "execution_count": 5,
      "outputs": [
        {
          "output_type": "execute_result",
          "data": {
            "text/plain": [
              "array([ 0,  1,  4,  9, 16, 25, 36, 49, 64, 81])"
            ]
          },
          "metadata": {},
          "execution_count": 5
        }
      ]
    },
    {
      "cell_type": "markdown",
      "source": [
        "`exp`- massivning har bir elementi uchun e^ hisoblaydi"
      ],
      "metadata": {
        "id": "hiRC8KbKwKhc"
      }
    },
    {
      "cell_type": "code",
      "source": [
        "np.exp(arr)"
      ],
      "metadata": {
        "colab": {
          "base_uri": "https://localhost:8080/"
        },
        "id": "oVgW19N3vxBb",
        "outputId": "412e52c5-1a3d-4c0a-e5b6-f64e5a2bb9ce"
      },
      "execution_count": 6,
      "outputs": [
        {
          "output_type": "execute_result",
          "data": {
            "text/plain": [
              "array([1.00000000e+00, 2.71828183e+00, 7.38905610e+00, 2.00855369e+01,\n",
              "       5.45981500e+01, 1.48413159e+02, 4.03428793e+02, 1.09663316e+03,\n",
              "       2.98095799e+03, 8.10308393e+03])"
            ]
          },
          "metadata": {},
          "execution_count": 6
        }
      ]
    },
    {
      "cell_type": "markdown",
      "source": [
        "`log`- massivning har bir elementi uchun logarifm e hisoblaydi"
      ],
      "metadata": {
        "id": "xNluabEfwoTk"
      }
    },
    {
      "cell_type": "code",
      "source": [
        "np.log(arr[1:])"
      ],
      "metadata": {
        "colab": {
          "base_uri": "https://localhost:8080/"
        },
        "id": "k5X3ySLSwkBJ",
        "outputId": "7f20d4f2-34ca-4872-dae1-46821ea6d2a0"
      },
      "execution_count": 7,
      "outputs": [
        {
          "output_type": "execute_result",
          "data": {
            "text/plain": [
              "array([0.        , 0.69314718, 1.09861229, 1.38629436, 1.60943791,\n",
              "       1.79175947, 1.94591015, 2.07944154, 2.19722458])"
            ]
          },
          "metadata": {},
          "execution_count": 7
        }
      ]
    },
    {
      "cell_type": "markdown",
      "source": [
        "`modf`- massiv elementlari haqiqiy son bo'lsa ularni qoldiq qismini alohida butun qismini alohida massivga joylab beruvchi funksiya"
      ],
      "metadata": {
        "id": "asi1Bt22Lk-2"
      }
    },
    {
      "cell_type": "code",
      "source": [
        "arr1 = np.random.randn(6)\n",
        "arr1"
      ],
      "metadata": {
        "colab": {
          "base_uri": "https://localhost:8080/"
        },
        "id": "WFAwpdJGxQ5c",
        "outputId": "0054297d-26e6-4efb-dbe8-d5a5573bf0ef"
      },
      "execution_count": 3,
      "outputs": [
        {
          "output_type": "execute_result",
          "data": {
            "text/plain": [
              "array([ 1.06656348,  1.56502137,  1.87865556, -0.64107397, -1.6612109 ,\n",
              "        0.48998672])"
            ]
          },
          "metadata": {},
          "execution_count": 3
        }
      ]
    },
    {
      "cell_type": "code",
      "source": [
        "qoldiq, butun = np.modf(arr1)\n",
        "print(qoldiq)\n",
        "print(butun)\n"
      ],
      "metadata": {
        "colab": {
          "base_uri": "https://localhost:8080/"
        },
        "id": "64RqIA_4L8Pf",
        "outputId": "b55badce-7d2b-4016-8f35-7a89c283b6d1"
      },
      "execution_count": 4,
      "outputs": [
        {
          "output_type": "stream",
          "name": "stdout",
          "text": [
            "[ 0.06656348  0.56502137  0.87865556 -0.64107397 -0.6612109   0.48998672]\n",
            "[ 1.  1.  1. -0. -1.  0.]\n"
          ]
        }
      ]
    },
    {
      "cell_type": "markdown",
      "source": [
        "`sign`-  massiv elementlari qiymati manfiy bo'lsa `-1`va aksincha musbat bo'lsa `1` ni qaytaradi"
      ],
      "metadata": {
        "id": "oI_EuFd8Mi3i"
      }
    },
    {
      "cell_type": "code",
      "source": [
        "np.sign(arr1)"
      ],
      "metadata": {
        "colab": {
          "base_uri": "https://localhost:8080/"
        },
        "id": "fzypzTplMPny",
        "outputId": "563173be-25cc-455b-e78f-23f599e022b0"
      },
      "execution_count": 5,
      "outputs": [
        {
          "output_type": "execute_result",
          "data": {
            "text/plain": [
              "array([ 1.,  1.,  1., -1., -1.,  1.])"
            ]
          },
          "metadata": {},
          "execution_count": 5
        }
      ]
    },
    {
      "cell_type": "markdown",
      "source": [
        "`isnan`-massivning elementlarida NaN(bo'sh) ma'lumoti bo'lsa `True` qaytaradiva aksincha esa `False` ni qaytaradi"
      ],
      "metadata": {
        "id": "6fVPZovLNQnj"
      }
    },
    {
      "cell_type": "code",
      "source": [
        "np.isnan(arr1)"
      ],
      "metadata": {
        "colab": {
          "base_uri": "https://localhost:8080/"
        },
        "id": "KBQZhKRaM2RK",
        "outputId": "4543d1e5-a71d-4b22-adaf-0af88d52d759"
      },
      "execution_count": 6,
      "outputs": [
        {
          "output_type": "execute_result",
          "data": {
            "text/plain": [
              "array([False, False, False, False, False, False])"
            ]
          },
          "metadata": {},
          "execution_count": 6
        }
      ]
    },
    {
      "cell_type": "code",
      "source": [
        "arr1[0] = np.NAN"
      ],
      "metadata": {
        "id": "HO5tAVDjNmx2"
      },
      "execution_count": 7,
      "outputs": []
    },
    {
      "cell_type": "code",
      "source": [
        "arr1"
      ],
      "metadata": {
        "colab": {
          "base_uri": "https://localhost:8080/"
        },
        "id": "uYBfXh1ZNuv7",
        "outputId": "1bf8a8aa-12ba-490d-d9e2-547b59c8279b"
      },
      "execution_count": 8,
      "outputs": [
        {
          "output_type": "execute_result",
          "data": {
            "text/plain": [
              "array([        nan,  1.56502137,  1.87865556, -0.64107397, -1.6612109 ,\n",
              "        0.48998672])"
            ]
          },
          "metadata": {},
          "execution_count": 8
        }
      ]
    },
    {
      "cell_type": "code",
      "source": [
        "np.isnan(arr1)"
      ],
      "metadata": {
        "colab": {
          "base_uri": "https://localhost:8080/"
        },
        "id": "oVLeIIHBNv3V",
        "outputId": "75c43544-cd00-43aa-afd9-e246dbbd667e"
      },
      "execution_count": 9,
      "outputs": [
        {
          "output_type": "execute_result",
          "data": {
            "text/plain": [
              "array([ True, False, False, False, False, False])"
            ]
          },
          "metadata": {},
          "execution_count": 9
        }
      ]
    },
    {
      "cell_type": "code",
      "source": [],
      "metadata": {
        "id": "rXaFzkD-OqaV"
      },
      "execution_count": null,
      "outputs": []
    },
    {
      "cell_type": "markdown",
      "source": [
        "# Binary funksiyalar (ikkita argument qabul qiluvchi funksiyalar)"
      ],
      "metadata": {
        "id": "orh57FlLOodR"
      }
    },
    {
      "cell_type": "code",
      "source": [
        "arr2 =np.random.randn(7)\n",
        "arr3 =np.random.randn(7)\n",
        "arr2"
      ],
      "metadata": {
        "colab": {
          "base_uri": "https://localhost:8080/"
        },
        "id": "3UYBvuWfNzkD",
        "outputId": "dafaecd0-e868-4167-a918-8a8342a971a0"
      },
      "execution_count": 10,
      "outputs": [
        {
          "output_type": "execute_result",
          "data": {
            "text/plain": [
              "array([ 0.07382997, -0.15248027, -1.54538827,  1.66430861, -0.09643087,\n",
              "       -0.830726  ,  0.64706216])"
            ]
          },
          "metadata": {},
          "execution_count": 10
        }
      ]
    },
    {
      "cell_type": "code",
      "source": [
        "arr3"
      ],
      "metadata": {
        "colab": {
          "base_uri": "https://localhost:8080/"
        },
        "id": "JORsa1MbPCvY",
        "outputId": "f5837c41-24d0-4a8b-8cf3-5e8c62b1ea51"
      },
      "execution_count": 11,
      "outputs": [
        {
          "output_type": "execute_result",
          "data": {
            "text/plain": [
              "array([-0.86338898,  0.41674285, -0.69601489,  0.45445589,  1.97689523,\n",
              "       -0.72854012, -1.09125619])"
            ]
          },
          "metadata": {},
          "execution_count": 11
        }
      ]
    },
    {
      "cell_type": "markdown",
      "source": [
        "`add`- ikkita massivning elementlarini mos ravishda qo'shib beradi\n",
        "\n"
      ],
      "metadata": {
        "id": "zc5GRz62PHkB"
      }
    },
    {
      "cell_type": "code",
      "source": [
        "np.add(arr2, arr3)"
      ],
      "metadata": {
        "colab": {
          "base_uri": "https://localhost:8080/"
        },
        "id": "_0aM36mvPDrS",
        "outputId": "7e8de844-b15c-40cf-f8ca-b2498c2c455e"
      },
      "execution_count": 12,
      "outputs": [
        {
          "output_type": "execute_result",
          "data": {
            "text/plain": [
              "array([-0.78955901,  0.26426258, -2.24140316,  2.1187645 ,  1.88046437,\n",
              "       -1.55926612, -0.44419403])"
            ]
          },
          "metadata": {},
          "execution_count": 12
        }
      ]
    },
    {
      "cell_type": "markdown",
      "source": [
        "`multiply`-ikkita massivning mos elementlarini ko'paytiradi"
      ],
      "metadata": {
        "id": "EVFKCayYP2Qu"
      }
    },
    {
      "cell_type": "code",
      "source": [
        "arr2"
      ],
      "metadata": {
        "colab": {
          "base_uri": "https://localhost:8080/"
        },
        "id": "OeWnoVMzPZFt",
        "outputId": "7e9b1bdd-3af8-442e-8f34-71990e91ba25"
      },
      "execution_count": 13,
      "outputs": [
        {
          "output_type": "execute_result",
          "data": {
            "text/plain": [
              "array([ 0.07382997, -0.15248027, -1.54538827,  1.66430861, -0.09643087,\n",
              "       -0.830726  ,  0.64706216])"
            ]
          },
          "metadata": {},
          "execution_count": 13
        }
      ]
    },
    {
      "cell_type": "code",
      "source": [
        "arr3"
      ],
      "metadata": {
        "colab": {
          "base_uri": "https://localhost:8080/"
        },
        "id": "BrOZv_ZUQDFY",
        "outputId": "bba101f4-d187-43e5-caf5-5281ab5f67c3"
      },
      "execution_count": 14,
      "outputs": [
        {
          "output_type": "execute_result",
          "data": {
            "text/plain": [
              "array([-0.86338898,  0.41674285, -0.69601489,  0.45445589,  1.97689523,\n",
              "       -0.72854012, -1.09125619])"
            ]
          },
          "metadata": {},
          "execution_count": 14
        }
      ]
    },
    {
      "cell_type": "code",
      "source": [
        "np.multiply(arr2, arr3)"
      ],
      "metadata": {
        "colab": {
          "base_uri": "https://localhost:8080/"
        },
        "id": "S652pygUQDxY",
        "outputId": "f623afa1-a5f3-4755-d98c-6caca03ac6a1"
      },
      "execution_count": 15,
      "outputs": [
        {
          "output_type": "execute_result",
          "data": {
            "text/plain": [
              "array([-0.06374398, -0.06354506,  1.07561324,  0.75635486, -0.19063372,\n",
              "        0.60521722, -0.70611059])"
            ]
          },
          "metadata": {},
          "execution_count": 15
        }
      ]
    },
    {
      "cell_type": "markdown",
      "source": [
        "`maximum`- ikkita massivning mos elementlarini taqqoslab ulardan kattasini qaytaradi."
      ],
      "metadata": {
        "id": "6V2rUD4TQaAZ"
      }
    },
    {
      "cell_type": "code",
      "source": [
        "np.maximum(arr2, arr3)"
      ],
      "metadata": {
        "colab": {
          "base_uri": "https://localhost:8080/"
        },
        "id": "0uZiKt7gQIte",
        "outputId": "2afffa7b-0a0d-49d3-b136-b19ee5d7ce0f"
      },
      "execution_count": 16,
      "outputs": [
        {
          "output_type": "execute_result",
          "data": {
            "text/plain": [
              "array([ 0.07382997,  0.41674285, -0.69601489,  1.66430861,  1.97689523,\n",
              "       -0.72854012,  0.64706216])"
            ]
          },
          "metadata": {},
          "execution_count": 16
        }
      ]
    },
    {
      "cell_type": "code",
      "source": [],
      "metadata": {
        "id": "Xq5JQ8OHQmZg"
      },
      "execution_count": null,
      "outputs": []
    }
  ]
}