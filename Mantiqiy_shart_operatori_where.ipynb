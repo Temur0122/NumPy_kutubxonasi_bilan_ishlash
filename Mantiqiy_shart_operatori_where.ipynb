{
  "nbformat": 4,
  "nbformat_minor": 0,
  "metadata": {
    "colab": {
      "provenance": [],
      "gpuType": "T4",
      "authorship_tag": "ABX9TyMxx2oGV9JN7HpttsxcUAuW",
      "include_colab_link": true
    },
    "kernelspec": {
      "name": "python3",
      "display_name": "Python 3"
    },
    "language_info": {
      "name": "python"
    },
    "accelerator": "GPU"
  },
  "cells": [
    {
      "cell_type": "markdown",
      "metadata": {
        "id": "view-in-github",
        "colab_type": "text"
      },
      "source": [
        "<a href=\"https://colab.research.google.com/github/Temur0122/NumPy_kutubxonasi_bilan_ishlash/blob/main/Mantiqiy_shart_operatori_where.ipynb\" target=\"_parent\"><img src=\"https://colab.research.google.com/assets/colab-badge.svg\" alt=\"Open In Colab\"/></a>"
      ]
    },
    {
      "cell_type": "code",
      "source": [
        "import numpy as np"
      ],
      "metadata": {
        "id": "rFg65qv_fkHA"
      },
      "execution_count": 1,
      "outputs": []
    },
    {
      "cell_type": "code",
      "source": [
        "xarr =np.array([1.1, 1.2, 1.3, 1.4, 1.5])\n",
        "yarr =np.array([2.1, 2.2, 2.3, 2.4, 2.5])"
      ],
      "metadata": {
        "id": "Cwzd_g66fmWt"
      },
      "execution_count": 2,
      "outputs": []
    },
    {
      "cell_type": "code",
      "source": [
        "cond =np.array([True, False ,True, True, False])\n"
      ],
      "metadata": {
        "id": "_C22-RbVf7yc"
      },
      "execution_count": 3,
      "outputs": []
    },
    {
      "cell_type": "code",
      "source": [
        "result = np.where(cond ,xarr, yarr)\n",
        "result"
      ],
      "metadata": {
        "colab": {
          "base_uri": "https://localhost:8080/"
        },
        "id": "fhSHE6TsgGjN",
        "outputId": "cb1ee665-4f60-4f9e-ccfa-ae7b162308c2"
      },
      "execution_count": 4,
      "outputs": [
        {
          "output_type": "execute_result",
          "data": {
            "text/plain": [
              "array([1.1, 2.2, 1.3, 1.4, 2.5])"
            ]
          },
          "metadata": {},
          "execution_count": 4
        }
      ]
    },
    {
      "cell_type": "code",
      "source": [
        "arr = np.random.randn(4,4)\n",
        "arr"
      ],
      "metadata": {
        "colab": {
          "base_uri": "https://localhost:8080/"
        },
        "id": "OjDvBWntgNeT",
        "outputId": "9e1cfcb8-c49a-496b-fe92-fd6485167fa1"
      },
      "execution_count": 7,
      "outputs": [
        {
          "output_type": "execute_result",
          "data": {
            "text/plain": [
              "array([[ 1.27302616,  1.27157534, -0.29665655, -0.77064645],\n",
              "       [-0.73540152,  0.34736491,  1.78906608, -0.65686921],\n",
              "       [-0.32371361,  0.08053556,  1.30270401, -1.30339588],\n",
              "       [-0.57531463,  0.94680738, -0.05964823, -0.24231746]])"
            ]
          },
          "metadata": {},
          "execution_count": 7
        }
      ]
    },
    {
      "cell_type": "code",
      "source": [
        "results = np.where(arr<0 , -2 ,2)\n",
        "results"
      ],
      "metadata": {
        "colab": {
          "base_uri": "https://localhost:8080/"
        },
        "id": "rcKHFKmGgZqr",
        "outputId": "59e6cba2-3301-4b8d-d024-7117eabe3e20"
      },
      "execution_count": 8,
      "outputs": [
        {
          "output_type": "execute_result",
          "data": {
            "text/plain": [
              "array([[ 2,  2, -2, -2],\n",
              "       [-2,  2,  2, -2],\n",
              "       [-2,  2,  2, -2],\n",
              "       [-2,  2, -2, -2]])"
            ]
          },
          "metadata": {},
          "execution_count": 8
        }
      ]
    },
    {
      "cell_type": "code",
      "source": [],
      "metadata": {
        "id": "PepJQmgogrni"
      },
      "execution_count": null,
      "outputs": []
    }
  ]
}