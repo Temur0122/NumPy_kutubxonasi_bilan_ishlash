{
  "nbformat": 4,
  "nbformat_minor": 0,
  "metadata": {
    "colab": {
      "provenance": [],
      "gpuType": "T4",
      "authorship_tag": "ABX9TyPsFtB98Mdg/TH1V1ZmGLHo",
      "include_colab_link": true
    },
    "kernelspec": {
      "name": "python3",
      "display_name": "Python 3"
    },
    "language_info": {
      "name": "python"
    },
    "accelerator": "GPU"
  },
  "cells": [
    {
      "cell_type": "markdown",
      "metadata": {
        "id": "view-in-github",
        "colab_type": "text"
      },
      "source": [
        "<a href=\"https://colab.research.google.com/github/Temur0122/NumPy_kutubxonasi_bilan_ishlash/blob/main/Sum_mean_math_statik_amallar.ipynb\" target=\"_parent\"><img src=\"https://colab.research.google.com/assets/colab-badge.svg\" alt=\"Open In Colab\"/></a>"
      ]
    },
    {
      "cell_type": "code",
      "source": [
        "import numpy as np"
      ],
      "metadata": {
        "id": "rFg65qv_fkHA"
      },
      "execution_count": 1,
      "outputs": []
    },
    {
      "cell_type": "code",
      "source": [
        "arr = np.random.randn(5,4)\n",
        "arr"
      ],
      "metadata": {
        "colab": {
          "base_uri": "https://localhost:8080/"
        },
        "id": "zFBgjvY-oACb",
        "outputId": "73e903f0-085e-4ed8-9cfd-9fcab1f7ecf6"
      },
      "execution_count": 3,
      "outputs": [
        {
          "output_type": "execute_result",
          "data": {
            "text/plain": [
              "array([[ 1.10683056,  1.83695089, -1.84744965, -0.82206427],\n",
              "       [-1.4486224 , -0.55230369, -0.20622792, -0.54271564],\n",
              "       [ 1.11069867, -1.59577956,  0.56888719,  0.03499344],\n",
              "       [ 1.47570216, -0.90641569,  0.59896207, -0.4285479 ],\n",
              "       [ 1.18772697,  0.77201442,  0.49538857,  0.9272848 ]])"
            ]
          },
          "metadata": {},
          "execution_count": 3
        }
      ]
    },
    {
      "cell_type": "code",
      "source": [
        "arr.sum()"
      ],
      "metadata": {
        "colab": {
          "base_uri": "https://localhost:8080/"
        },
        "id": "hnu0cWRMoTW9",
        "outputId": "a77143dc-f4af-43b4-9441-cbb8c15c736a"
      },
      "execution_count": 4,
      "outputs": [
        {
          "output_type": "execute_result",
          "data": {
            "text/plain": [
              "1.7653130166334619"
            ]
          },
          "metadata": {},
          "execution_count": 4
        }
      ]
    },
    {
      "cell_type": "code",
      "source": [
        "arr.sum(axis = 1) # Qator bo'yicha yig;indisi"
      ],
      "metadata": {
        "colab": {
          "base_uri": "https://localhost:8080/"
        },
        "id": "MoJ18An1oZ18",
        "outputId": "e2c5e283-f6f3-42f6-c707-79289666cf8d"
      },
      "execution_count": 5,
      "outputs": [
        {
          "output_type": "execute_result",
          "data": {
            "text/plain": [
              "array([ 0.27426753, -2.74986965,  0.11879975,  0.73970064,  3.38241476])"
            ]
          },
          "metadata": {},
          "execution_count": 5
        }
      ]
    },
    {
      "cell_type": "code",
      "source": [
        "arr.sum(axis = 0) # Ustun bo'yicha yig'indisi\n"
      ],
      "metadata": {
        "colab": {
          "base_uri": "https://localhost:8080/"
        },
        "id": "r0L-xf97okyC",
        "outputId": "d778e3ee-241b-4e06-9af4-3632fa6793e1"
      },
      "execution_count": 6,
      "outputs": [
        {
          "output_type": "execute_result",
          "data": {
            "text/plain": [
              "array([ 3.43233596, -0.44553363, -0.39043974, -0.83104958])"
            ]
          },
          "metadata": {},
          "execution_count": 6
        }
      ]
    },
    {
      "cell_type": "code",
      "source": [
        "data = np.arange(5)\n",
        "data"
      ],
      "metadata": {
        "colab": {
          "base_uri": "https://localhost:8080/"
        },
        "id": "p4VDipxeogjU",
        "outputId": "135dc4cd-25e2-4f0c-c486-49aa2833e421"
      },
      "execution_count": 7,
      "outputs": [
        {
          "output_type": "execute_result",
          "data": {
            "text/plain": [
              "array([0, 1, 2, 3, 4])"
            ]
          },
          "metadata": {},
          "execution_count": 7
        }
      ]
    },
    {
      "cell_type": "code",
      "source": [
        "data.mean() # o'rta arifmetik hisoblaydi"
      ],
      "metadata": {
        "colab": {
          "base_uri": "https://localhost:8080/"
        },
        "id": "GcVgqwvMqnt6",
        "outputId": "5ae491dc-43d2-4c5d-9475-57635b9fa082"
      },
      "execution_count": 9,
      "outputs": [
        {
          "output_type": "execute_result",
          "data": {
            "text/plain": [
              "2.0"
            ]
          },
          "metadata": {},
          "execution_count": 9
        }
      ]
    },
    {
      "cell_type": "code",
      "source": [
        "np.mean(arr, axis =1) # qator bo'yacha o'rta arifmetigi"
      ],
      "metadata": {
        "colab": {
          "base_uri": "https://localhost:8080/"
        },
        "id": "w67Db5_hqsUq",
        "outputId": "73449efd-1aed-40e2-b13d-3b206b1ae559"
      },
      "execution_count": 10,
      "outputs": [
        {
          "output_type": "execute_result",
          "data": {
            "text/plain": [
              "array([ 0.06856688, -0.68746741,  0.02969994,  0.18492516,  0.84560369])"
            ]
          },
          "metadata": {},
          "execution_count": 10
        }
      ]
    },
    {
      "cell_type": "code",
      "source": [
        "data"
      ],
      "metadata": {
        "colab": {
          "base_uri": "https://localhost:8080/"
        },
        "id": "80OXCm8Uq2yy",
        "outputId": "5ebb9a16-6e6b-4342-93ba-6772538229af"
      },
      "execution_count": 11,
      "outputs": [
        {
          "output_type": "execute_result",
          "data": {
            "text/plain": [
              "array([0, 1, 2, 3, 4])"
            ]
          },
          "metadata": {},
          "execution_count": 11
        }
      ]
    },
    {
      "cell_type": "code",
      "source": [
        "data.cumsum()"
      ],
      "metadata": {
        "colab": {
          "base_uri": "https://localhost:8080/"
        },
        "id": "emTkKXDIrCW4",
        "outputId": "51f1f8e7-c64a-4946-aa1c-481ca0814f4c"
      },
      "execution_count": 12,
      "outputs": [
        {
          "output_type": "execute_result",
          "data": {
            "text/plain": [
              "array([ 0,  1,  3,  6, 10])"
            ]
          },
          "metadata": {},
          "execution_count": 12
        }
      ]
    },
    {
      "cell_type": "code",
      "source": [],
      "metadata": {
        "id": "XaxnrJyUrF5T"
      },
      "execution_count": null,
      "outputs": []
    }
  ]
}