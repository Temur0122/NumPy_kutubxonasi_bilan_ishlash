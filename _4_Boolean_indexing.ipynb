{
  "nbformat": 4,
  "nbformat_minor": 0,
  "metadata": {
    "colab": {
      "provenance": [],
      "authorship_tag": "ABX9TyO/DXE6ovdLsKaJ5kMShcj8",
      "include_colab_link": true
    },
    "kernelspec": {
      "name": "python3",
      "display_name": "Python 3"
    },
    "language_info": {
      "name": "python"
    }
  },
  "cells": [
    {
      "cell_type": "markdown",
      "metadata": {
        "id": "view-in-github",
        "colab_type": "text"
      },
      "source": [
        "<a href=\"https://colab.research.google.com/github/Temur0122/NumPy_kutubxonasi_bilan_ishlash/blob/main/_4_Boolean_indexing.ipynb\" target=\"_parent\"><img src=\"https://colab.research.google.com/assets/colab-badge.svg\" alt=\"Open In Colab\"/></a>"
      ]
    },
    {
      "cell_type": "code",
      "execution_count": 2,
      "metadata": {
        "colab": {
          "base_uri": "https://localhost:8080/"
        },
        "id": "AdM8wFRYPpGO",
        "outputId": "fec44246-f5f9-4a73-d4ab-db1c95636219"
      },
      "outputs": [
        {
          "output_type": "execute_result",
          "data": {
            "text/plain": [
              "array(['Hasan', 'Husan', 'Mirzo', 'Hasan', 'Husan', 'Elyor', 'Temur'],\n",
              "      dtype='<U5')"
            ]
          },
          "metadata": {},
          "execution_count": 2
        }
      ],
      "source": [
        "import numpy as np\n",
        "#ismlar\n",
        "names = np.array(['Hasan', 'Husan', 'Mirzo', 'Hasan', 'Husan', 'Elyor', 'Temur'])\n",
        "names"
      ]
    },
    {
      "cell_type": "code",
      "source": [
        "#data\n",
        "data =np.random.randn(7,4)\n",
        "data"
      ],
      "metadata": {
        "colab": {
          "base_uri": "https://localhost:8080/"
        },
        "id": "OCxVUudJQIrv",
        "outputId": "751edb23-313c-4a17-bc53-de138b491906"
      },
      "execution_count": 3,
      "outputs": [
        {
          "output_type": "execute_result",
          "data": {
            "text/plain": [
              "array([[ 0.2818425 , -0.19792183, -1.33499859,  0.15211133],\n",
              "       [-0.49905261,  0.46871892,  0.64915048,  0.94069089],\n",
              "       [ 1.32757257,  0.36114085, -0.03382893,  0.80819897],\n",
              "       [-0.38233462, -0.80905682,  0.57788211, -1.27530872],\n",
              "       [ 0.50998942, -1.14951664,  2.46754853, -1.52315524],\n",
              "       [-0.60556766,  1.33574951, -0.89068643,  0.89578902],\n",
              "       [ 0.31752963, -0.9271461 , -0.83703455, -0.19501383]])"
            ]
          },
          "metadata": {},
          "execution_count": 3
        }
      ]
    },
    {
      "cell_type": "code",
      "source": [
        "names == 'Hasan'"
      ],
      "metadata": {
        "colab": {
          "base_uri": "https://localhost:8080/"
        },
        "id": "exmKrqi3RYwW",
        "outputId": "5b73e726-0461-4082-9f15-d84ca69e8211"
      },
      "execution_count": 4,
      "outputs": [
        {
          "output_type": "execute_result",
          "data": {
            "text/plain": [
              "array([ True, False, False,  True, False, False, False])"
            ]
          },
          "metadata": {},
          "execution_count": 4
        }
      ]
    },
    {
      "cell_type": "code",
      "source": [
        "data[names == 'Hasan'] # Hasanga tegishli ma'lumotlarni ajratib olish"
      ],
      "metadata": {
        "colab": {
          "base_uri": "https://localhost:8080/"
        },
        "id": "odjUaxb3QpEL",
        "outputId": "54548100-fbc0-41cd-fd5f-7f1a24e1b85a"
      },
      "execution_count": 5,
      "outputs": [
        {
          "output_type": "execute_result",
          "data": {
            "text/plain": [
              "array([[ 0.2818425 , -0.19792183, -1.33499859,  0.15211133],\n",
              "       [-0.38233462, -0.80905682,  0.57788211, -1.27530872]])"
            ]
          },
          "metadata": {},
          "execution_count": 5
        }
      ]
    },
    {
      "cell_type": "code",
      "source": [
        "data[names == 'Hasan', 2:] #Hasanga tegishli oxirgi ikki ustundagi ma'lumotlarni kesib olish"
      ],
      "metadata": {
        "colab": {
          "base_uri": "https://localhost:8080/"
        },
        "id": "yu24lj-RRq9a",
        "outputId": "ed1abf69-5724-4390-fc72-c498f42bb38a"
      },
      "execution_count": 6,
      "outputs": [
        {
          "output_type": "execute_result",
          "data": {
            "text/plain": [
              "array([[-1.33499859,  0.15211133],\n",
              "       [ 0.57788211, -1.27530872]])"
            ]
          },
          "metadata": {},
          "execution_count": 6
        }
      ]
    },
    {
      "cell_type": "code",
      "source": [
        "data[names != 'Hasan'] # (!=) Hasandan tashqari barcha elementlarni ajratib oladi"
      ],
      "metadata": {
        "colab": {
          "base_uri": "https://localhost:8080/"
        },
        "id": "abY70bdESfGm",
        "outputId": "a7262545-5af2-4da7-cc08-5106e09c85bd"
      },
      "execution_count": 7,
      "outputs": [
        {
          "output_type": "execute_result",
          "data": {
            "text/plain": [
              "array([[-0.49905261,  0.46871892,  0.64915048,  0.94069089],\n",
              "       [ 1.32757257,  0.36114085, -0.03382893,  0.80819897],\n",
              "       [ 0.50998942, -1.14951664,  2.46754853, -1.52315524],\n",
              "       [-0.60556766,  1.33574951, -0.89068643,  0.89578902],\n",
              "       [ 0.31752963, -0.9271461 , -0.83703455, -0.19501383]])"
            ]
          },
          "metadata": {},
          "execution_count": 7
        }
      ]
    },
    {
      "cell_type": "code",
      "source": [
        "data[~(names == 'Hasan')] # (~) Yuqoridagi cell bilan bir xil natijani beradi"
      ],
      "metadata": {
        "colab": {
          "base_uri": "https://localhost:8080/"
        },
        "id": "tq4FOBLsTEPJ",
        "outputId": "d2b6bdc6-3843-429d-9837-ca65a2bda285"
      },
      "execution_count": 8,
      "outputs": [
        {
          "output_type": "execute_result",
          "data": {
            "text/plain": [
              "array([[-0.49905261,  0.46871892,  0.64915048,  0.94069089],\n",
              "       [ 1.32757257,  0.36114085, -0.03382893,  0.80819897],\n",
              "       [ 0.50998942, -1.14951664,  2.46754853, -1.52315524],\n",
              "       [-0.60556766,  1.33574951, -0.89068643,  0.89578902],\n",
              "       [ 0.31752963, -0.9271461 , -0.83703455, -0.19501383]])"
            ]
          },
          "metadata": {},
          "execution_count": 8
        }
      ]
    },
    {
      "cell_type": "code",
      "source": [
        "print(names)"
      ],
      "metadata": {
        "colab": {
          "base_uri": "https://localhost:8080/"
        },
        "id": "XPl810znTjBL",
        "outputId": "615e4897-eda4-45ca-d6d2-378a131a8624"
      },
      "execution_count": 13,
      "outputs": [
        {
          "output_type": "stream",
          "name": "stdout",
          "text": [
            "['Hasan' 'Husan' 'Mirzo' 'Hasan' 'Husan' 'Elyor' 'Temur']\n"
          ]
        }
      ]
    },
    {
      "cell_type": "code",
      "source": [
        "print(data)"
      ],
      "metadata": {
        "colab": {
          "base_uri": "https://localhost:8080/"
        },
        "id": "46H1L3x-UR_N",
        "outputId": "eeb0263e-5763-4814-c3ec-52648e5a17e0"
      },
      "execution_count": 14,
      "outputs": [
        {
          "output_type": "stream",
          "name": "stdout",
          "text": [
            "[[ 0.2818425  -0.19792183 -1.33499859  0.15211133]\n",
            " [-0.49905261  0.46871892  0.64915048  0.94069089]\n",
            " [ 1.32757257  0.36114085 -0.03382893  0.80819897]\n",
            " [-0.38233462 -0.80905682  0.57788211 -1.27530872]\n",
            " [ 0.50998942 -1.14951664  2.46754853 -1.52315524]\n",
            " [-0.60556766  1.33574951 -0.89068643  0.89578902]\n",
            " [ 0.31752963 -0.9271461  -0.83703455 -0.19501383]]\n"
          ]
        }
      ]
    },
    {
      "cell_type": "code",
      "source": [
        "mask = (names == 'Hasan') | (names == 'Husan')\n",
        "mask"
      ],
      "metadata": {
        "colab": {
          "base_uri": "https://localhost:8080/"
        },
        "id": "Igu9ybHqU7wG",
        "outputId": "26a5340d-a8de-466d-c72c-f59fa452e453"
      },
      "execution_count": 15,
      "outputs": [
        {
          "output_type": "execute_result",
          "data": {
            "text/plain": [
              "array([ True,  True, False,  True,  True, False, False])"
            ]
          },
          "metadata": {},
          "execution_count": 15
        }
      ]
    },
    {
      "cell_type": "code",
      "source": [
        "data[mask]"
      ],
      "metadata": {
        "colab": {
          "base_uri": "https://localhost:8080/"
        },
        "id": "gucee2VeVdzJ",
        "outputId": "46cdf444-4ddd-418e-f699-f8f68742b79b"
      },
      "execution_count": 16,
      "outputs": [
        {
          "output_type": "execute_result",
          "data": {
            "text/plain": [
              "array([[ 0.2818425 , -0.19792183, -1.33499859,  0.15211133],\n",
              "       [-0.49905261,  0.46871892,  0.64915048,  0.94069089],\n",
              "       [-0.38233462, -0.80905682,  0.57788211, -1.27530872],\n",
              "       [ 0.50998942, -1.14951664,  2.46754853, -1.52315524]])"
            ]
          },
          "metadata": {},
          "execution_count": 16
        }
      ]
    },
    {
      "cell_type": "code",
      "source": [
        "data"
      ],
      "metadata": {
        "colab": {
          "base_uri": "https://localhost:8080/"
        },
        "id": "LiPVxkT2VhD3",
        "outputId": "789dd85e-3dfd-4b9f-b776-e60f5a998ca3"
      },
      "execution_count": 17,
      "outputs": [
        {
          "output_type": "execute_result",
          "data": {
            "text/plain": [
              "array([[ 0.2818425 , -0.19792183, -1.33499859,  0.15211133],\n",
              "       [-0.49905261,  0.46871892,  0.64915048,  0.94069089],\n",
              "       [ 1.32757257,  0.36114085, -0.03382893,  0.80819897],\n",
              "       [-0.38233462, -0.80905682,  0.57788211, -1.27530872],\n",
              "       [ 0.50998942, -1.14951664,  2.46754853, -1.52315524],\n",
              "       [-0.60556766,  1.33574951, -0.89068643,  0.89578902],\n",
              "       [ 0.31752963, -0.9271461 , -0.83703455, -0.19501383]])"
            ]
          },
          "metadata": {},
          "execution_count": 17
        }
      ]
    },
    {
      "cell_type": "code",
      "source": [
        "data[data<0]"
      ],
      "metadata": {
        "colab": {
          "base_uri": "https://localhost:8080/"
        },
        "id": "X8eLF4_eV_Ta",
        "outputId": "1591e7f8-5c98-475a-8504-09b05ef7f7af"
      },
      "execution_count": 18,
      "outputs": [
        {
          "output_type": "execute_result",
          "data": {
            "text/plain": [
              "array([-0.19792183, -1.33499859, -0.49905261, -0.03382893, -0.38233462,\n",
              "       -0.80905682, -1.27530872, -1.14951664, -1.52315524, -0.60556766,\n",
              "       -0.89068643, -0.9271461 , -0.83703455, -0.19501383])"
            ]
          },
          "metadata": {},
          "execution_count": 18
        }
      ]
    },
    {
      "cell_type": "code",
      "source": [
        "data[data<0] = 0\n",
        "data"
      ],
      "metadata": {
        "colab": {
          "base_uri": "https://localhost:8080/"
        },
        "id": "fUqTmt5aWD_4",
        "outputId": "68860ed6-8f93-492d-eea1-471e896f9ff0"
      },
      "execution_count": 19,
      "outputs": [
        {
          "output_type": "execute_result",
          "data": {
            "text/plain": [
              "array([[0.2818425 , 0.        , 0.        , 0.15211133],\n",
              "       [0.        , 0.46871892, 0.64915048, 0.94069089],\n",
              "       [1.32757257, 0.36114085, 0.        , 0.80819897],\n",
              "       [0.        , 0.        , 0.57788211, 0.        ],\n",
              "       [0.50998942, 0.        , 2.46754853, 0.        ],\n",
              "       [0.        , 1.33574951, 0.        , 0.89578902],\n",
              "       [0.31752963, 0.        , 0.        , 0.        ]])"
            ]
          },
          "metadata": {},
          "execution_count": 19
        }
      ]
    },
    {
      "cell_type": "code",
      "source": [],
      "metadata": {
        "id": "Z4D9VuHLWLx0"
      },
      "execution_count": null,
      "outputs": []
    }
  ]
}