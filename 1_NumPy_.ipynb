{
  "nbformat": 4,
  "nbformat_minor": 0,
  "metadata": {
    "colab": {
      "provenance": [],
      "authorship_tag": "ABX9TyPKvL9eHe31M3Lf5ffXzubP",
      "include_colab_link": true
    },
    "kernelspec": {
      "name": "python3",
      "display_name": "Python 3"
    },
    "language_info": {
      "name": "python"
    }
  },
  "cells": [
    {
      "cell_type": "markdown",
      "metadata": {
        "id": "view-in-github",
        "colab_type": "text"
      },
      "source": [
        "<a href=\"https://colab.research.google.com/github/Temur0122/NumPy_kutubxonasi_bilan_ishlash/blob/main/1_NumPy_.ipynb\" target=\"_parent\"><img src=\"https://colab.research.google.com/assets/colab-badge.svg\" alt=\"Open In Colab\"/></a>"
      ]
    },
    {
      "cell_type": "markdown",
      "source": [
        "# Numpy kutubxonasini chaqirib olish"
      ],
      "metadata": {
        "id": "v_-NwkJb0DsH"
      }
    },
    {
      "cell_type": "code",
      "execution_count": 1,
      "metadata": {
        "id": "Vw8FcqAGzt3W"
      },
      "outputs": [],
      "source": [
        "import numpy as np"
      ]
    },
    {
      "cell_type": "markdown",
      "source": [
        "# N-o'lchamli massivlarga ishlov berish"
      ],
      "metadata": {
        "id": "mJHAE9RC0SI0"
      }
    },
    {
      "cell_type": "markdown",
      "source": [
        "# NumPy da massiv yaratishningeng oson yo'llaridan biri bu **Array** funksiyasi yordamida amalga oshiriladi.Va ushbu funksiya har qandayb turdagiketma ket ma'lumotlarniqabul qilib, uni yangi NumPy arrayiga o'girib beradi."
      ],
      "metadata": {
        "id": "Qp-5O_PL0kiw"
      }
    },
    {
      "cell_type": "code",
      "source": [
        "data1 =[2.3, 4, 4, 5, 6] # list\n",
        "arr1 =np.array(data1) #array1"
      ],
      "metadata": {
        "id": "sPhXkF3e0O0u"
      },
      "execution_count": 2,
      "outputs": []
    },
    {
      "cell_type": "code",
      "source": [
        "arr1"
      ],
      "metadata": {
        "colab": {
          "base_uri": "https://localhost:8080/"
        },
        "id": "Ry8Uce8r1-wA",
        "outputId": "2cccc186-fec3-46b6-9780-a3a1af9defd4"
      },
      "execution_count": 3,
      "outputs": [
        {
          "output_type": "execute_result",
          "data": {
            "text/plain": [
              "array([2.3, 4. , 4. , 5. , 6. ])"
            ]
          },
          "metadata": {},
          "execution_count": 3
        }
      ]
    },
    {
      "cell_type": "markdown",
      "source": [
        "# Massiv o'lchami"
      ],
      "metadata": {
        "id": "vQxMy7RR2fS3"
      }
    },
    {
      "cell_type": "code",
      "source": [
        "arr1.ndim # Array1 ning  o'lchami"
      ],
      "metadata": {
        "colab": {
          "base_uri": "https://localhost:8080/"
        },
        "id": "6BG38k552BEp",
        "outputId": "4fa8ef38-4695-48fa-8c7c-a464e9f1afc3"
      },
      "execution_count": 4,
      "outputs": [
        {
          "output_type": "execute_result",
          "data": {
            "text/plain": [
              "1"
            ]
          },
          "metadata": {},
          "execution_count": 4
        }
      ]
    },
    {
      "cell_type": "markdown",
      "source": [
        "# Ikki va undan katta o'lchamli massivlar"
      ],
      "metadata": {
        "id": "pYCKfYoM3baN"
      }
    },
    {
      "cell_type": "code",
      "source": [
        "data3 = [[[1, 2, 3], [4, 5, 6], [7, 8, 9] ] ]\n",
        "arr3 =np.array(data3)"
      ],
      "metadata": {
        "id": "y2-PC8v12ykB"
      },
      "execution_count": 9,
      "outputs": []
    },
    {
      "cell_type": "code",
      "source": [
        "arr3.ndim"
      ],
      "metadata": {
        "colab": {
          "base_uri": "https://localhost:8080/"
        },
        "id": "YxCy77e137wh",
        "outputId": "7a73d668-a763-4d5b-b177-3b7ef6e23f7b"
      },
      "execution_count": 10,
      "outputs": [
        {
          "output_type": "execute_result",
          "data": {
            "text/plain": [
              "3"
            ]
          },
          "metadata": {},
          "execution_count": 10
        }
      ]
    },
    {
      "cell_type": "code",
      "source": [
        "arr3"
      ],
      "metadata": {
        "colab": {
          "base_uri": "https://localhost:8080/"
        },
        "id": "csx71ACU4H6Z",
        "outputId": "00870f30-43d2-4b98-f298-13f389846719"
      },
      "execution_count": 11,
      "outputs": [
        {
          "output_type": "execute_result",
          "data": {
            "text/plain": [
              "array([[[1, 2, 3],\n",
              "        [4, 5, 6],\n",
              "        [7, 8, 9]]])"
            ]
          },
          "metadata": {},
          "execution_count": 11
        }
      ]
    },
    {
      "cell_type": "markdown",
      "source": [
        "# Shape, size metodlari"
      ],
      "metadata": {
        "id": "ZzNJ5d-I5CP_"
      }
    },
    {
      "cell_type": "markdown",
      "source": [
        "***shape*** metodi massivningqator va ustunlar sonini ko'rsatsa, ***size*** esa massivlardagi elementlar sonini namoyon qiladi."
      ],
      "metadata": {
        "id": "pR25Anwx5NI6"
      }
    },
    {
      "cell_type": "code",
      "source": [
        "arr3.shape # qator va ustunlar soni ko'rsatadi (q, u)"
      ],
      "metadata": {
        "colab": {
          "base_uri": "https://localhost:8080/"
        },
        "id": "cNcPrDC94Lra",
        "outputId": "bb38d827-d2b7-41a0-9a79-bb97bc1c1889"
      },
      "execution_count": 12,
      "outputs": [
        {
          "output_type": "execute_result",
          "data": {
            "text/plain": [
              "(1, 3, 3)"
            ]
          },
          "metadata": {},
          "execution_count": 12
        }
      ]
    },
    {
      "cell_type": "code",
      "source": [
        "arr3.size # elementlar soni"
      ],
      "metadata": {
        "colab": {
          "base_uri": "https://localhost:8080/"
        },
        "id": "A7wiwFTc5_XL",
        "outputId": "afb03053-2152-4ced-fcb0-9c9f46517367"
      },
      "execution_count": 13,
      "outputs": [
        {
          "output_type": "execute_result",
          "data": {
            "text/plain": [
              "9"
            ]
          },
          "metadata": {},
          "execution_count": 13
        }
      ]
    },
    {
      "cell_type": "markdown",
      "source": [
        "# N-o'lchovli massiv yaratishning boshqa usullari\n",
        "***Zeros*** ,***ones*** funksiyalari yordamida massiv yaratish"
      ],
      "metadata": {
        "id": "ZhXVOjfy7Qcv"
      }
    },
    {
      "cell_type": "code",
      "source": [
        "arr4 = np.zeros((3, 5)) # faqat nollardan iborat 3x5 lik massiv\n",
        "arr4"
      ],
      "metadata": {
        "colab": {
          "base_uri": "https://localhost:8080/"
        },
        "id": "FWNrTlwl6VXP",
        "outputId": "e234b030-c30d-4bec-9a23-c53be05e531d"
      },
      "execution_count": 16,
      "outputs": [
        {
          "output_type": "execute_result",
          "data": {
            "text/plain": [
              "array([[0., 0., 0., 0., 0.],\n",
              "       [0., 0., 0., 0., 0.],\n",
              "       [0., 0., 0., 0., 0.]])"
            ]
          },
          "metadata": {},
          "execution_count": 16
        }
      ]
    },
    {
      "cell_type": "code",
      "source": [
        "arr5 = np.ones((4, 6)) # faqat 1 lardan iborat 4x6 lik massiv\n",
        "arr5"
      ],
      "metadata": {
        "colab": {
          "base_uri": "https://localhost:8080/"
        },
        "id": "IoCIu8dU762Q",
        "outputId": "ea1007bb-544d-4240-ca15-fae8c78e8f6d"
      },
      "execution_count": 17,
      "outputs": [
        {
          "output_type": "execute_result",
          "data": {
            "text/plain": [
              "array([[1., 1., 1., 1., 1., 1.],\n",
              "       [1., 1., 1., 1., 1., 1.],\n",
              "       [1., 1., 1., 1., 1., 1.],\n",
              "       [1., 1., 1., 1., 1., 1.]])"
            ]
          },
          "metadata": {},
          "execution_count": 17
        }
      ]
    },
    {
      "cell_type": "markdown",
      "source": [
        "***arange*** funksiyasi yordamida yaratish"
      ],
      "metadata": {
        "id": "8I4_OOkY81GM"
      }
    },
    {
      "cell_type": "code",
      "source": [
        "arr6 = np.arange(2, 22, 2) # 2 dan 22 gacha bo'lgan sonlarni 2 qadamdan massivga joylab beradi\n",
        "arr6"
      ],
      "metadata": {
        "colab": {
          "base_uri": "https://localhost:8080/"
        },
        "id": "cy82NQqY8Ur7",
        "outputId": "8190687d-70c9-4bc8-8171-2abfc2480157"
      },
      "execution_count": 18,
      "outputs": [
        {
          "output_type": "execute_result",
          "data": {
            "text/plain": [
              "array([ 2,  4,  6,  8, 10, 12, 14, 16, 18, 20])"
            ]
          },
          "metadata": {},
          "execution_count": 18
        }
      ]
    },
    {
      "cell_type": "code",
      "source": [
        "arr7 = np.arange(10) # 0 dan 10 gacha bo'lgan sonlarni 1 qadamdan massivga joylab beradi\n",
        "arr7"
      ],
      "metadata": {
        "colab": {
          "base_uri": "https://localhost:8080/"
        },
        "id": "KvABPZ-39Gil",
        "outputId": "147dce4c-8436-40ee-8332-984d9681e69a"
      },
      "execution_count": 19,
      "outputs": [
        {
          "output_type": "execute_result",
          "data": {
            "text/plain": [
              "array([0, 1, 2, 3, 4, 5, 6, 7, 8, 9])"
            ]
          },
          "metadata": {},
          "execution_count": 19
        }
      ]
    },
    {
      "cell_type": "code",
      "source": [],
      "metadata": {
        "id": "eHTjOU629ruB"
      },
      "execution_count": null,
      "outputs": []
    }
  ]
}