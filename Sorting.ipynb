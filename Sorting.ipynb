{
  "nbformat": 4,
  "nbformat_minor": 0,
  "metadata": {
    "colab": {
      "provenance": [],
      "gpuType": "T4",
      "authorship_tag": "ABX9TyNmVKyB9nxAcHXJF+EHqW2S",
      "include_colab_link": true
    },
    "kernelspec": {
      "name": "python3",
      "display_name": "Python 3"
    },
    "language_info": {
      "name": "python"
    },
    "accelerator": "GPU"
  },
  "cells": [
    {
      "cell_type": "markdown",
      "metadata": {
        "id": "view-in-github",
        "colab_type": "text"
      },
      "source": [
        "<a href=\"https://colab.research.google.com/github/Temur0122/NumPy_kutubxonasi_bilan_ishlash/blob/main/Sorting.ipynb\" target=\"_parent\"><img src=\"https://colab.research.google.com/assets/colab-badge.svg\" alt=\"Open In Colab\"/></a>"
      ]
    },
    {
      "cell_type": "code",
      "source": [
        "import numpy as np\n",
        "\n"
      ],
      "metadata": {
        "id": "rFg65qv_fkHA"
      },
      "execution_count": 13,
      "outputs": []
    },
    {
      "cell_type": "code",
      "source": [
        "arr = np.random.rand(4)\n",
        "arr"
      ],
      "metadata": {
        "colab": {
          "base_uri": "https://localhost:8080/"
        },
        "id": "8f18HjXgrSZX",
        "outputId": "7ddf1778-273a-401b-accf-c5495921b347"
      },
      "execution_count": 15,
      "outputs": [
        {
          "output_type": "execute_result",
          "data": {
            "text/plain": [
              "array([0.1939532 , 0.97788013, 0.65777954, 0.91591345])"
            ]
          },
          "metadata": {},
          "execution_count": 15
        }
      ]
    },
    {
      "cell_type": "code",
      "source": [
        "arr.sort()\n",
        "arr\n"
      ],
      "metadata": {
        "colab": {
          "base_uri": "https://localhost:8080/"
        },
        "id": "KpF9bpHptrPS",
        "outputId": "e6733045-ca49-43ed-f377-f3d46e8cc006"
      },
      "execution_count": 17,
      "outputs": [
        {
          "output_type": "execute_result",
          "data": {
            "text/plain": [
              "array([0.1939532 , 0.65777954, 0.91591345, 0.97788013])"
            ]
          },
          "metadata": {},
          "execution_count": 17
        }
      ]
    },
    {
      "cell_type": "code",
      "source": [
        "rev_arr = -np.sort(-arr)\n",
        "rev_arr"
      ],
      "metadata": {
        "colab": {
          "base_uri": "https://localhost:8080/"
        },
        "id": "4qSehXGQtxhr",
        "outputId": "e9227eff-5fcc-4af1-c0f3-c270d995e283"
      },
      "execution_count": 19,
      "outputs": [
        {
          "output_type": "execute_result",
          "data": {
            "text/plain": [
              "array([0.97788013, 0.91591345, 0.65777954, 0.1939532 ])"
            ]
          },
          "metadata": {},
          "execution_count": 19
        }
      ]
    },
    {
      "cell_type": "code",
      "source": [
        "arr2d = np.random.randn(2,4)\n",
        "arr2d"
      ],
      "metadata": {
        "colab": {
          "base_uri": "https://localhost:8080/"
        },
        "id": "n7DfCCK9t9EL",
        "outputId": "0df69951-d955-4084-9142-7dcc1c3fd68b"
      },
      "execution_count": 20,
      "outputs": [
        {
          "output_type": "execute_result",
          "data": {
            "text/plain": [
              "array([[ 1.32401458,  0.05151173,  0.83739495, -0.73499841],\n",
              "       [-1.02539186,  1.22125741,  1.71986487,  0.06814996]])"
            ]
          },
          "metadata": {},
          "execution_count": 20
        }
      ]
    },
    {
      "cell_type": "code",
      "source": [
        "row_srt= np.sort(arr2d , axis= 0)\n",
        "row_srt\n",
        "\n"
      ],
      "metadata": {
        "colab": {
          "base_uri": "https://localhost:8080/"
        },
        "id": "7DONeB17uHq2",
        "outputId": "19f1fcc3-a0b5-4b60-8efc-9e5e0b1a4d98"
      },
      "execution_count": 22,
      "outputs": [
        {
          "output_type": "execute_result",
          "data": {
            "text/plain": [
              "array([[-1.02539186,  0.05151173,  0.83739495, -0.73499841],\n",
              "       [ 1.32401458,  1.22125741,  1.71986487,  0.06814996]])"
            ]
          },
          "metadata": {},
          "execution_count": 22
        }
      ]
    },
    {
      "cell_type": "code",
      "source": [
        "row_srt.sort(axis = 1)"
      ],
      "metadata": {
        "id": "kvB_rdYDuUyv"
      },
      "execution_count": 23,
      "outputs": []
    },
    {
      "cell_type": "code",
      "source": [
        "row_srt"
      ],
      "metadata": {
        "colab": {
          "base_uri": "https://localhost:8080/"
        },
        "id": "Cwx77de3ug9_",
        "outputId": "be7720d1-d4e1-4650-f6ed-873733092cc1"
      },
      "execution_count": 24,
      "outputs": [
        {
          "output_type": "execute_result",
          "data": {
            "text/plain": [
              "array([[-1.02539186, -0.73499841,  0.05151173,  0.83739495],\n",
              "       [ 0.06814996,  1.22125741,  1.32401458,  1.71986487]])"
            ]
          },
          "metadata": {},
          "execution_count": 24
        }
      ]
    },
    {
      "cell_type": "code",
      "source": [],
      "metadata": {
        "id": "hLlRQ_vBujXv"
      },
      "execution_count": null,
      "outputs": []
    }
  ]
}