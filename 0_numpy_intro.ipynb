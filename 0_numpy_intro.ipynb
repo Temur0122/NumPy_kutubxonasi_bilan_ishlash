{
  "nbformat": 4,
  "nbformat_minor": 0,
  "metadata": {
    "colab": {
      "provenance": [],
      "name": "0_numpy_intro.ipynb",
      "authorship_tag": "ABX9TyP3UCRNoTu/6h3msaiFM+14",
      "include_colab_link": true
    },
    "kernelspec": {
      "name": "python3",
      "display_name": "Python 3"
    },
    "language_info": {
      "name": "python"
    }
  },
  "cells": [
    {
      "cell_type": "markdown",
      "metadata": {
        "id": "view-in-github",
        "colab_type": "text"
      },
      "source": [
        "<a href=\"https://colab.research.google.com/github/Temur0122/NumPy_kutubxonasi_bilan_ishlash/blob/main/0_numpy_intro.ipynb\" target=\"_parent\"><img src=\"https://colab.research.google.com/assets/colab-badge.svg\" alt=\"Open In Colab\"/></a>"
      ]
    },
    {
      "cell_type": "markdown",
      "source": [
        "# NumPy ni chaqirib olish"
      ],
      "metadata": {
        "id": "gJQDdE11kUul"
      }
    },
    {
      "cell_type": "code",
      "source": [
        "import numpy as np"
      ],
      "metadata": {
        "id": "yIlZ9QKrkdk9"
      },
      "execution_count": null,
      "outputs": []
    },
    {
      "cell_type": "markdown",
      "source": [
        "# Python list bilan NumPy kutubxonasidagi massivlar (arraylar) hisoblashlari orasidagi farqni ko`ramiz !"
      ],
      "metadata": {
        "id": "UPLSX6SRk4vz"
      }
    },
    {
      "cell_type": "code",
      "source": [
        "my_list = list(range(100000)) # python list -- 0~99999 --> Normal\n",
        "my_array =np.array(range(100000)) # numpy array(massiv) 0~99999 --> Vektorlashgan"
      ],
      "metadata": {
        "id": "1YttO9a4lSja"
      },
      "execution_count": null,
      "outputs": []
    },
    {
      "cell_type": "code",
      "source": [
        "%time for _ in range(10): [x*2 for x in my_list] # Normal hisoblashga misol"
      ],
      "metadata": {
        "colab": {
          "base_uri": "https://localhost:8080/"
        },
        "id": "FfzMr9ifmrjH",
        "outputId": "454bb9da-b097-47bb-ea10-73a55156f525"
      },
      "execution_count": null,
      "outputs": [
        {
          "output_type": "stream",
          "name": "stdout",
          "text": [
            "CPU times: user 36.9 ms, sys: 5.99 ms, total: 42.9 ms\n",
            "Wall time: 65.6 ms\n"
          ]
        }
      ]
    },
    {
      "cell_type": "code",
      "source": [
        "%time for _ in range(10): my_array*2 # Vektorlashgan hisoblashga misol"
      ],
      "metadata": {
        "colab": {
          "base_uri": "https://localhost:8080/"
        },
        "id": "A5emcK_AnUIC",
        "outputId": "05b068d1-5d11-4ef9-8c65-37cefaffa87e"
      },
      "execution_count": null,
      "outputs": [
        {
          "output_type": "stream",
          "name": "stdout",
          "text": [
            "CPU times: user 2.33 ms, sys: 9 µs, total: 2.34 ms\n",
            "Wall time: 5.74 ms\n"
          ]
        }
      ]
    },
    {
      "cell_type": "code",
      "source": [
        "65.6/5.74"
      ],
      "metadata": {
        "colab": {
          "base_uri": "https://localhost:8080/"
        },
        "id": "uMJL5qr3n3AZ",
        "outputId": "b2d862da-c570-40ed-f3dd-ad05376df34b"
      },
      "execution_count": null,
      "outputs": [
        {
          "output_type": "execute_result",
          "data": {
            "text/plain": [
              "11.428571428571427"
            ]
          },
          "metadata": {},
          "execution_count": 5
        }
      ]
    },
    {
      "cell_type": "code",
      "source": [],
      "metadata": {
        "id": "nnpia8I4oNrC"
      },
      "execution_count": null,
      "outputs": []
    }
  ]
}